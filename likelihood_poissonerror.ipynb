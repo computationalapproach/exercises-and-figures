{
 "cells": [
  {
   "cell_type": "code",
   "execution_count": 2,
   "metadata": {
    "scrolled": true
   },
   "outputs": [
    {
     "data": {
      "image/png": "[encoded data removed]",
      "text/plain": [
       "<matplotlib.figure.Figure at 0x35a68d0>"
      ]
     },
     "metadata": {},
     "output_type": "display_data"
    },
    {
     "name": "stdout",
     "output_type": "stream",
     "text": [
      "('Fraction of trials with lower likelihood: ', 0.055)\n",
      "('Hypothesis of model rejected with confidence: ', 0.945)\n"
     ]
    }
   ],
   "source": [
    "#Program likelihood_poissonerror.py\n",
    "%matplotlib inline\n",
    "import numpy as np\n",
    "import matplotlib.pyplot as plt\n",
    "import numpy.random as ran\n",
    "import scipy.stats as stat\n",
    "\n",
    "#Define number of trials (number of datasets to generate) and\n",
    "#number of data points per trial\n",
    "ntrials = 10000\n",
    "npoints = 4\n",
    "\n",
    "#Generate the real data set, and bin into 5 keV bins 0-100 keV:\n",
    "binedges=np.linspace(0.,98.,50)+1.\n",
    "bincenters = (binedges[0:49]+binedges[1:50])/2.\n",
    "\n",
    "#These are energies of individual photons in keV.  I have made something like my\n",
    "#hypothetical model but have added some extra counts near 40 keV -- something\n",
    "#interesting may be going on in this neutron star right now!\n",
    "energies=[1.7,23.,5.,17.,35.,8.2,11.5,3.3,4.4,2.1,9.0,11.7, 42., 62., 20., 6.,7.,14.7,\n",
    "          25.1,18.3,2.1,0.8,0.15,1.3,3.2,0.7,43.5,48.2,41.0,40.4]\n",
    "#We need to bin it for use in calculations as well as plotting\n",
    "#(which happens in the histogram plotting routine automatically).\n",
    "datahist,edgeshist = np.histogram(energies,binedges)\n",
    "\n",
    "#Here is the model function, just for reference; we will only use its integral\n",
    "#over our binning. This is the usual behavior of the neutron star, i.e. our\n",
    "#null hypothesis:\n",
    "def hypothesis(x):\n",
    "    return 5.*x**(-1.1)\n",
    "#Generate the hypothesis integrated over the bins we have chosen, which is\n",
    "#what we are going to use.  \n",
    "def hypothesis_integrated(x):\n",
    "    thesize = np.shape(x)[0]\n",
    "    return 5./0.1 * (x[0:thesize-1]**(-0.1) - x[1:thesize]**(-0.1))\n",
    "\n",
    "#Here is the model integrated over each bin. Note that you can make these\n",
    "#bins even smaller if you like, so that each contains only 0 or 1 counts.\n",
    "#Real x-ray detectors have their own natural (instrumental) binning,\n",
    "#so we'll say that this is what we are representing.\n",
    "ymodel = hypothesis_integrated(binedges)\n",
    "\n",
    "#Make the first plot, with the \"real\" data shown as a blue histogram\n",
    "#and the model integrated over the instrumental bins shown as green points.\n",
    "plt.figure(1,figsize=[7,2.5])\n",
    "plt.subplot(121)\n",
    "plt.xlim(0,80)\n",
    "plt.ylim(0,5.5)\n",
    "plt.xlabel('x-ray energy, keV')\n",
    "plt.ylabel('x-rays per bin')\n",
    "plt.hist(energies,binedges,alpha=0.25,ec='black')\n",
    "plt.scatter(bincenters,ymodel,marker='o',color='green')\n",
    "\n",
    "#Define the likelihood function for data y and model ymodel.  In\n",
    "#this example it's a Poisson error distribution.  Note that unlike the case of \n",
    "#likelihood_gausserror.ipynb, we don't specify the magnitude of errors explicitly,\n",
    "#since they are implicity in the nature of Poisson statistics:\n",
    "def likelihood(y,ymodel):\n",
    "    return stat.poisson.pmf(y,ymodel)\n",
    "\n",
    "#Now calculate the likelihood for the actual data.  The function np.prod\n",
    "#takes the product of all the elements in the array it's given as an\n",
    "#argument -- this is the overall likelihood product. Each element in the\n",
    "#array is the likelihood for each data point.\n",
    "data_likelies = likelihood(datahist,ymodel)\n",
    "data_overall = np.prod(data_likelies) \n",
    "\n",
    "#Make \"ntrials\" artificial datasets \n",
    "trials_overall = np.empty(ntrials)\n",
    "for j in range(0,ntrials):\n",
    "    #One line each to make the artificial Poisson data across the whole\n",
    "    #spectrum (a different lambda for each bin), turn each bin\n",
    "    #into a probability, and mulitply all the probabilities together:\n",
    "    ytrial = ran.poisson(lam=ymodel,size=np.shape(ymodel)[0])\n",
    "    trial_likelies = likelihood(ytrial,ymodel)\n",
    "    trials_overall[j] = np.prod(trial_likelies)\n",
    "    \n",
    "#Take the log of the likelihoods for plotting purposes, since the likelihood values\n",
    "#themselves run over many orders of magnitude for the trials.  Of course taking\n",
    "#the logs doesn't change the fraction of likelihoods in the trials that are lower\n",
    "#then the data, which is the final answer.\n",
    "logl_trials = np.log(trials_overall)\n",
    "logl_data = np.log(data_overall)\n",
    "\n",
    "\n",
    "#Now plot the histogram of the log likelihoods of the trials with the data shown\n",
    "#as a blue bar on top:\n",
    "plt.subplot(122)\n",
    "histedges_logl = np.linspace(-50,0,51)\n",
    "plt.hist(logl_trials,histedges_logl,alpha=0.3,color='green',ec='black')\n",
    "plt.plot([logl_data,logl_data],[0,900],linewidth=2,color='blue')\n",
    "plt.xlabel('log (likelihood)')\n",
    "plt.ylabel('Number of trials')\n",
    "plt.tight_layout()\n",
    "plt.savefig('likelihood_poissonerr.png', format='png', dpi=1000)\n",
    "plt.show() \n",
    "\n",
    "#Here's the hypothesis test!:\n",
    "lower = (trials_overall < data_overall).nonzero()\n",
    "fraclower = (np.shape(lower)[1])/float(ntrials)\n",
    "print('Fraction of trials with lower likelihood: ',fraclower)\n",
    "print('Hypothesis of model rejected with confidence: ',1.-fraclower)\n",
    "#values returned in the run that generated the figure were 0.0561, 0.9439"
   ]
  },
  {
   "cell_type": "code",
   "execution_count": null,
   "metadata": {
    "collapsed": true
   },
   "outputs": [],
   "source": []
  },
  {
   "cell_type": "code",
   "execution_count": null,
   "metadata": {
    "collapsed": true
   },
   "outputs": [],
   "source": []
  },
  {
   "cell_type": "code",
   "execution_count": null,
   "metadata": {
    "collapsed": true
   },
   "outputs": [],
   "source": []
  },
  {
   "cell_type": "code",
   "execution_count": null,
   "metadata": {
    "collapsed": true
   },
   "outputs": [],
   "source": []
  }
 ],
 "metadata": {
  "anaconda-cloud": {},
  "kernelspec": {
   "display_name": "Python 3",
   "language": "python",
   "name": "python3"
  },
  "language_info": {
   "codemirror_mode": {
    "name": "ipython",
    "version": 3
   },
   "file_extension": ".py",
   "mimetype": "text/x-python",
   "name": "python",
   "nbconvert_exporter": "python",
   "pygments_lexer": "ipython3",
   "version": "3.7.1"
  }
 },
 "nbformat": 4,
 "nbformat_minor": 1
}
